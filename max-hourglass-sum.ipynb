{
 "cells": [
  {
   "cell_type": "code",
   "execution_count": 1,
   "metadata": {},
   "outputs": [],
   "source": [
    "import random"
   ]
  },
  {
   "cell_type": "code",
   "execution_count": 3,
   "metadata": {},
   "outputs": [
    {
     "data": {
      "text/plain": [
       "14"
      ]
     },
     "execution_count": 3,
     "metadata": {},
     "output_type": "execute_result"
    }
   ],
   "source": [
    "random.randint(10,20)"
   ]
  },
  {
   "cell_type": "code",
   "execution_count": 4,
   "metadata": {},
   "outputs": [],
   "source": [
    "nrows = 6\n",
    "ncols = 6"
   ]
  },
  {
   "cell_type": "code",
   "execution_count": 47,
   "metadata": {},
   "outputs": [],
   "source": [
    "arr = []\n",
    "for i in range(nrows):\n",
    "    arr.append( [random.randint(1,10) for _ in range(ncols)] )"
   ]
  },
  {
   "cell_type": "code",
   "execution_count": 48,
   "metadata": {},
   "outputs": [
    {
     "data": {
      "text/plain": [
       "[[9, 10, 6, 8, 2, 9],\n",
       " [2, 10, 2, 7, 8, 8],\n",
       " [4, 3, 6, 8, 1, 2],\n",
       " [1, 9, 7, 5, 6, 1],\n",
       " [6, 8, 4, 2, 1, 1],\n",
       " [5, 4, 4, 5, 10, 1]]"
      ]
     },
     "execution_count": 48,
     "metadata": {},
     "output_type": "execute_result"
    }
   ],
   "source": [
    "arr"
   ]
  },
  {
   "cell_type": "code",
   "execution_count": 63,
   "metadata": {},
   "outputs": [
    {
     "ename": "IndentationError",
     "evalue": "unexpected indent (<ipython-input-63-14f6713ee16c>, line 18)",
     "output_type": "error",
     "traceback": [
      "\u001b[0;36m  File \u001b[0;32m\"<ipython-input-63-14f6713ee16c>\"\u001b[0;36m, line \u001b[0;32m18\u001b[0m\n\u001b[0;31m    def sumHourglass(self, arr):\u001b[0m\n\u001b[0m    ^\u001b[0m\n\u001b[0;31mIndentationError\u001b[0m\u001b[0;31m:\u001b[0m unexpected indent\n"
     ]
    }
   ],
   "source": [
    "class hourglass ():\n",
    "    def __init__(self, width=3, x=0, y=0):\n",
    "        self.x = x\n",
    "        self.y = y\n",
    "        self.width = width\n",
    "        \n",
    "    def __str__(self):\n",
    "        return f\"Hour Glass:: Rows: {[i for i in range(self.x, self.x+self.width)]} Cols: {[i for i in range(self.y, self.y+self.width)]} \"\n",
    "        \n",
    "'''\n",
    "a b c \n",
    "e f g\n",
    "h i j\n",
    "An hourglass would consist of \n",
    "elements [a, b, c] , [f] and [h, i, j]\n",
    "in the above 3X3 matrix\n",
    "'''\n",
    "    def sumHourglass(self, arr):\n",
    "        sm = 0\n",
    "        index = 0\n",
    "        for idx in range(3):                \n",
    "            if idx == 1:\n",
    "                sm += arr[self.x+idx][self.y+idx]\n",
    "            else:\n",
    "                sm += sum(arr[self.x + idx][self.y:self.y+3])\n",
    "        return sm\n",
    "            "
   ]
  },
  {
   "cell_type": "code",
   "execution_count": 57,
   "metadata": {},
   "outputs": [],
   "source": [
    "obj1 = hourglass(x=0,y=0)"
   ]
  },
  {
   "cell_type": "code",
   "execution_count": 58,
   "metadata": {},
   "outputs": [
    {
     "data": {
      "text/plain": [
       "'Hour Glass:: Rows: [0, 1, 2] Cols: [0, 1, 2] '"
      ]
     },
     "execution_count": 58,
     "metadata": {},
     "output_type": "execute_result"
    }
   ],
   "source": [
    "str(obj1)"
   ]
  },
  {
   "cell_type": "code",
   "execution_count": 59,
   "metadata": {},
   "outputs": [],
   "source": [
    "obj2 = hourglass(x=2, y=0)"
   ]
  },
  {
   "cell_type": "code",
   "execution_count": 60,
   "metadata": {},
   "outputs": [
    {
     "data": {
      "text/plain": [
       "'Hour Glass:: Rows: [2, 3, 4] Cols: [0, 1, 2] '"
      ]
     },
     "execution_count": 60,
     "metadata": {},
     "output_type": "execute_result"
    }
   ],
   "source": [
    "str(obj2)"
   ]
  },
  {
   "cell_type": "code",
   "execution_count": 61,
   "metadata": {},
   "outputs": [
    {
     "data": {
      "text/plain": [
       "[[9, 10, 6, 8, 2, 9],\n",
       " [2, 10, 2, 7, 8, 8],\n",
       " [4, 3, 6, 8, 1, 2],\n",
       " [1, 9, 7, 5, 6, 1],\n",
       " [6, 8, 4, 2, 1, 1],\n",
       " [5, 4, 4, 5, 10, 1]]"
      ]
     },
     "execution_count": 61,
     "metadata": {},
     "output_type": "execute_result"
    }
   ],
   "source": [
    "arr"
   ]
  },
  {
   "cell_type": "code",
   "execution_count": 72,
   "metadata": {},
   "outputs": [
    {
     "name": "stdout",
     "output_type": "stream",
     "text": [
      "Hour Glass:: Rows: [0, 1, 2] Cols: [0, 1, 2] \n",
      "48\n"
     ]
    }
   ],
   "source": [
    "width = 3\n",
    "hglasses = []\n",
    "for x_idx, i in enumerate(arr):\n",
    "    if x_idx > nrows - width:\n",
    "        continue\n",
    "    else:\n",
    "        for y_idx, j in enumerate(arr[x_idx]):\n",
    "            if y_idx > ncols - width:\n",
    "                continue\n",
    "            else:\n",
    "                #print(f\" [{x_idx},{y_idx}]={arr[x_idx][y_idx]}\", end=\",\")\n",
    "                obj_hg = hourglass(x=x_idx, y=y_idx)\n",
    "                #print(f\"{obj_hg.sumHourglass(arr)}\", end=\" \")\n",
    "                hglasses.append ( obj_hg )\n",
    "        #print(\"\\n\")\n",
    "\n",
    "max_sum = hglasses[0].sumHourglass(arr)\n",
    "max_hg = hglasses[0]\n",
    "for hg in hglasses:\n",
    "    if hg.sumHourglass(arr) > max_sum:\n",
    "        max_hg = hg\n",
    "print(max_hg)\n",
    "print(max_hg.sumHourglass(arr))        "
   ]
  }
 ],
 "metadata": {
  "kernelspec": {
   "display_name": "Python 3",
   "language": "python",
   "name": "python3"
  },
  "language_info": {
   "codemirror_mode": {
    "name": "ipython",
    "version": 3
   },
   "file_extension": ".py",
   "mimetype": "text/x-python",
   "name": "python",
   "nbconvert_exporter": "python",
   "pygments_lexer": "ipython3",
   "version": "3.8.5"
  }
 },
 "nbformat": 4,
 "nbformat_minor": 4
}
